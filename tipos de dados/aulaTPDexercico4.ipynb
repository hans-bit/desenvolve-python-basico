{
 "cells": [
  {
   "cell_type": "code",
   "execution_count": 1,
   "id": "14f7118b-543f-4c13-b9fc-80427f7410a2",
   "metadata": {},
   "outputs": [
    {
     "name": "stdout",
     "output_type": "stream",
     "text": [
      "Meu primeiro código\n"
     ]
    }
   ],
   "source": [
    "print(\"Meu primeiro código\")\n"
   ]
  },
  {
   "cell_type": "code",
   "execution_count": 2,
   "id": "4b97d77a-2e2a-4ba2-bf93-b6671c2a2025",
   "metadata": {},
   "outputs": [
    {
     "name": "stdout",
     "output_type": "stream",
     "text": [
      "11\n",
      "3\n",
      "50\n",
      "2.0\n"
     ]
    }
   ],
   "source": [
    "x = 10\n",
    "\n",
    "y = 5\n",
    "\n",
    "print(x+1)\n",
    "\n",
    "print(y-2)\n",
    "\n",
    "print(y*x)\n",
    "\n",
    "print(x/y)\n",
    "\n"
   ]
  },
  {
   "cell_type": "code",
   "execution_count": 3,
   "id": "3aafa218-0c42-4ea5-82bc-1eace83e7ab0",
   "metadata": {},
   "outputs": [
    {
     "ename": "SyntaxError",
     "evalue": "unterminated string literal (detected at line 1) (4184754892.py, line 1)",
     "output_type": "error",
     "traceback": [
      "  \u001b[36mCell\u001b[39m\u001b[36m \u001b[39m\u001b[32mIn[3]\u001b[39m\u001b[32m, line 1\u001b[39m\n\u001b[31m    \u001b[39m\u001b[31mprint(\"Ola)\u001b[39m\n          ^\n\u001b[31mSyntaxError\u001b[39m\u001b[31m:\u001b[39m unterminated string literal (detected at line 1)\n"
     ]
    }
   ],
   "source": [
    "print(\"Ola)"
   ]
  },
  {
   "cell_type": "code",
   "execution_count": null,
   "id": "090b49aa-62f2-4d85-9b42-ccf0009a2e5e",
   "metadata": {},
   "outputs": [],
   "source": []
  }
 ],
 "metadata": {
  "kernelspec": {
   "display_name": "Python 3 (ipykernel)",
   "language": "python",
   "name": "python3"
  },
  "language_info": {
   "codemirror_mode": {
    "name": "ipython",
    "version": 3
   },
   "file_extension": ".py",
   "mimetype": "text/x-python",
   "name": "python",
   "nbconvert_exporter": "python",
   "pygments_lexer": "ipython3",
   "version": "3.12.7"
  }
 },
 "nbformat": 4,
 "nbformat_minor": 5
}
